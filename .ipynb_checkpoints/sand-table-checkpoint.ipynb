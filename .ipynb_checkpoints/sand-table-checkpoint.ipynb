{
 "cells": [
  {
   "cell_type": "code",
   "execution_count": 1,
   "id": "fdfaf725-3b20-4bd9-8a46-274b7a3e914f",
   "metadata": {},
   "outputs": [
    {
     "ename": "ModuleNotFoundError",
     "evalue": "No module named 'cq_gears'",
     "output_type": "error",
     "traceback": [
      "\u001b[0;31m---------------------------------------------------------------------------\u001b[0m",
      "\u001b[0;31mModuleNotFoundError\u001b[0m                       Traceback (most recent call last)",
      "Cell \u001b[0;32mIn[1], line 2\u001b[0m\n\u001b[1;32m      1\u001b[0m \u001b[38;5;28;01mimport\u001b[39;00m \u001b[38;5;21;01mcadquery\u001b[39;00m \u001b[38;5;28;01mas\u001b[39;00m \u001b[38;5;21;01mcq\u001b[39;00m\n\u001b[0;32m----> 2\u001b[0m \u001b[38;5;28;01mfrom\u001b[39;00m \u001b[38;5;21;01mcq_gears\u001b[39;00m \u001b[38;5;28;01mimport\u001b[39;00m SpurGear\n\u001b[1;32m      4\u001b[0m \u001b[38;5;66;03m# Create a gear object with the SpurGear class\u001b[39;00m\n\u001b[1;32m      5\u001b[0m spur_gear \u001b[38;5;241m=\u001b[39m SpurGear(module\u001b[38;5;241m=\u001b[39m\u001b[38;5;241m1.0\u001b[39m, teeth_number\u001b[38;5;241m=\u001b[39m\u001b[38;5;241m19\u001b[39m, width\u001b[38;5;241m=\u001b[39m\u001b[38;5;241m5.0\u001b[39m, bore_d\u001b[38;5;241m=\u001b[39m\u001b[38;5;241m5.0\u001b[39m)\n",
      "\u001b[0;31mModuleNotFoundError\u001b[0m: No module named 'cq_gears'"
     ]
    }
   ],
   "source": [
    "import cadquery as cq\n",
    "from cq_gears import SpurGear\n",
    "\n",
    "# Create a gear object with the SpurGear class\n",
    "spur_gear = SpurGear(module=1.0, teeth_number=19, width=5.0, bore_d=5.0)\n",
    "\n",
    "# Build this gear using the gear function from cq.Workplane\n",
    "wp = cq.Workplane('XY').gear(spur_gear)\n",
    "\n",
    "show(wp)"
   ]
  },
  {
   "cell_type": "code",
   "execution_count": null,
   "id": "414b274a-231a-4dba-bc60-85f1f6e29cbf",
   "metadata": {},
   "outputs": [],
   "source": []
  }
 ],
 "metadata": {
  "kernelspec": {
   "display_name": "Python 3 (ipykernel)",
   "language": "python",
   "name": "python3"
  },
  "language_info": {
   "codemirror_mode": {
    "name": "ipython",
    "version": 3
   },
   "file_extension": ".py",
   "mimetype": "text/x-python",
   "name": "python",
   "nbconvert_exporter": "python",
   "pygments_lexer": "ipython3",
   "version": "3.12.2"
  }
 },
 "nbformat": 4,
 "nbformat_minor": 5
}
