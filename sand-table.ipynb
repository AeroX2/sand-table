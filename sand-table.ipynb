{
 "cells": [
  {
   "cell_type": "code",
   "execution_count": 1,
   "id": "7511e802",
   "metadata": {},
   "outputs": [
    {
     "name": "stdout",
     "output_type": "stream",
     "text": [
      "Overwriting auto display for cadquery Workplane and Shape\n"
     ]
    },
    {
     "data": {
      "application/vnd.jupyter.widget-view+json": {
       "model_id": "742cdd7537b342d6ade92027c06d9a41",
       "version_major": 2,
       "version_minor": 0
      },
      "text/plain": [
       "CadViewerWidget(anchor='right', cad_width=800, glass=False, height=600, pinning=False, theme='dark', title='Ca…"
      ]
     },
     "metadata": {},
     "output_type": "display_data"
    }
   ],
   "source": [
    "from jupyter_cadquery import set_defaults, open_viewer\n",
    "\n",
    "set_defaults(theme=\"dark\")\n",
    "open_viewer(\"CadQuery\")\n",
    "\n",
    "import math\n",
    "import cadquery as cq\n",
    "from cq_gears import SpurGear, RingGear\n",
    "import faulthandler\n",
    "\n",
    "faulthandler.enable()\n",
    "from jupyter_cadquery.viewer.client import show"
   ]
  },
  {
   "cell_type": "code",
   "execution_count": 84,
   "id": "1bf48126",
   "metadata": {},
   "outputs": [],
   "source": [
    "main_arm_length = 125\n",
    "secondary_arm_length = main_arm_length\n",
    "\n",
    "arm_height = 10\n",
    "arm_thickness = 10\n",
    "arm_extra_length = 10\n",
    "\n",
    "gear_size = main_arm_length\n",
    "gear_height = 10\n",
    "\n",
    "gear_hole = 10\n",
    "gear_hole_tolerance = 0.5\n",
    "gear_spoke_width = 15"
   ]
  },
  {
   "cell_type": "code",
   "execution_count": 85,
   "id": "fdfaf725-3b20-4bd9-8a46-274b7a3e914f",
   "metadata": {},
   "outputs": [
    {
     "name": "stdout",
     "output_type": "stream",
     "text": [
      ". sending ... done\n"
     ]
    }
   ],
   "source": [
    "main_arm = (\n",
    "    cq.Workplane(\"XY\")\n",
    "    .center(main_arm_length / 2 - main_arm_length / 2 - arm_extra_length / 2, 0)\n",
    "    .rect(main_arm_length + arm_extra_length * 2, arm_thickness * 2)\n",
    "    .extrude(arm_height)\n",
    ")\n",
    "\n",
    "main_arm_gear_hub_1 = (\n",
    "    main_arm.faces(\">Z\")\n",
    "    .workplane()\n",
    "    .center(-main_arm_length / 2, 0)\n",
    "    .circle(gear_hole / 2 - gear_hole_tolerance)\n",
    "    .extrude(gear_height * 2)\n",
    ")\n",
    "\n",
    "main_arm_gear_hub_2 = (\n",
    "    main_arm.faces(\">Z\")\n",
    "    .workplane()\n",
    "    .center(main_arm_length / 2, 0)\n",
    "    .circle(gear_hole / 2 - gear_hole_tolerance)\n",
    "    .extrude(gear_height * 2)\n",
    ")\n",
    "\n",
    "arm = main_arm.union(main_arm_gear_hub_1).union(main_arm_gear_hub_2)\n",
    "show(arm)"
   ]
  },
  {
   "cell_type": "code",
   "execution_count": 86,
   "id": "658437a5",
   "metadata": {},
   "outputs": [
    {
     "name": "stderr",
     "output_type": "stream",
     "text": [
      "C:\\Users\\James\\miniforge3\\envs\\cadquery\\Lib\\site-packages\\cq_gears\\spur_gear.py:348: RuntimeWarning: invalid value encountered in arcsin\n",
      "  a2 = np.arcsin((spoke_width / 2.0) / (spokes_od / 2.0))\n"
     ]
    },
    {
     "ename": "StdFail_NotDone",
     "evalue": "GC_MakeArcOfCircle::Value() - no result",
     "output_type": "error",
     "traceback": [
      "\u001b[1;31m---------------------------------------------------------------------------\u001b[0m",
      "\u001b[1;31mStdFail_NotDone\u001b[0m                           Traceback (most recent call last)",
      "Cell \u001b[1;32mIn[86], line 44\u001b[0m\n\u001b[0;32m     25\u001b[0m gear_arm_forward_2 \u001b[38;5;241m=\u001b[39m SpurGear(\n\u001b[0;32m     26\u001b[0m     module\u001b[38;5;241m=\u001b[39m\u001b[38;5;241m1.0\u001b[39m,\n\u001b[0;32m     27\u001b[0m     teeth_number\u001b[38;5;241m=\u001b[39mgear_size,\n\u001b[1;32m   (...)\u001b[0m\n\u001b[0;32m     34\u001b[0m     \u001b[38;5;66;03m# spoke_fillet=4.0,\u001b[39;00m\n\u001b[0;32m     35\u001b[0m )\n\u001b[0;32m     37\u001b[0m \u001b[38;5;66;03m#Top gear without magnet arm\u001b[39;00m\n\u001b[0;32m     38\u001b[0m arm_gear_1 \u001b[38;5;241m=\u001b[39m (\n\u001b[0;32m     39\u001b[0m     \u001b[43marm\u001b[49m\u001b[38;5;241;43m.\u001b[39;49m\u001b[43mfaces\u001b[49m\u001b[43m(\u001b[49m\u001b[38;5;124;43m\"\u001b[39;49m\u001b[38;5;124;43m>Z[1]\u001b[39;49m\u001b[38;5;124;43m\"\u001b[39;49m\u001b[43m)\u001b[49m\n\u001b[0;32m     40\u001b[0m \u001b[43m    \u001b[49m\u001b[38;5;241;43m.\u001b[39;49m\u001b[43mworkplane\u001b[49m\u001b[43m(\u001b[49m\u001b[43m)\u001b[49m\n\u001b[0;32m     41\u001b[0m \u001b[43m    \u001b[49m\u001b[38;5;241;43m.\u001b[39;49m\u001b[43mcenter\u001b[49m\u001b[43m(\u001b[49m\u001b[38;5;241;43m-\u001b[39;49m\u001b[43mgear_size\u001b[49m\u001b[43m \u001b[49m\u001b[38;5;241;43m/\u001b[39;49m\u001b[43m \u001b[49m\u001b[38;5;241;43m2\u001b[39;49m\u001b[43m,\u001b[49m\u001b[43m \u001b[49m\u001b[38;5;241;43m0\u001b[39;49m\u001b[43m)\u001b[49m\n\u001b[0;32m     42\u001b[0m \u001b[43m    \u001b[49m\u001b[38;5;66;43;03m# .circle(gear_arm_forward.r0)\u001b[39;49;00m\n\u001b[0;32m     43\u001b[0m \u001b[43m    \u001b[49m\u001b[38;5;66;43;03m# .extrude(-gear_arm_forward.width)\u001b[39;49;00m\n\u001b[1;32m---> 44\u001b[0m \u001b[43m    \u001b[49m\u001b[38;5;241;43m.\u001b[39;49m\u001b[43mgear\u001b[49m\u001b[43m(\u001b[49m\u001b[43mgear_arm_forward\u001b[49m\u001b[43m)\u001b[49m\n\u001b[0;32m     45\u001b[0m )\n\u001b[0;32m     47\u001b[0m \u001b[38;5;66;03m#Top gear with magnet arm\u001b[39;00m\n\u001b[0;32m     48\u001b[0m arm_gear_2 \u001b[38;5;241m=\u001b[39m (\n\u001b[0;32m     49\u001b[0m     arm\u001b[38;5;241m.\u001b[39mfaces(\u001b[38;5;124m\"\u001b[39m\u001b[38;5;124m>Z[1]\u001b[39m\u001b[38;5;124m\"\u001b[39m)\n\u001b[0;32m     50\u001b[0m     \u001b[38;5;241m.\u001b[39mworkplane()\n\u001b[1;32m   (...)\u001b[0m\n\u001b[0;32m     54\u001b[0m     \u001b[38;5;241m.\u001b[39mgear(gear_arm_backward)\n\u001b[0;32m     55\u001b[0m )\n",
      "File \u001b[1;32m~\\miniforge3\\envs\\cadquery\\Lib\\site-packages\\cq_gears\\__init__.py:60\u001b[0m, in \u001b[0;36mgear\u001b[1;34m(self, gear_, *build_args, **build_kv_args)\u001b[0m\n\u001b[0;32m     51\u001b[0m \u001b[38;5;28;01mdef\u001b[39;00m \u001b[38;5;21mgear\u001b[39m(\u001b[38;5;28mself\u001b[39m, gear_, \u001b[38;5;241m*\u001b[39mbuild_args, \u001b[38;5;241m*\u001b[39m\u001b[38;5;241m*\u001b[39mbuild_kv_args):\n\u001b[0;32m     52\u001b[0m \u001b[38;5;250m    \u001b[39m\u001b[38;5;124;03m'''Build a gear body from a gear object. This function to be monkey-patched\u001b[39;00m\n\u001b[0;32m     53\u001b[0m \u001b[38;5;124;03m    into cadquery.Workplane, so cq_gears could be used as a plugin.\u001b[39;00m\n\u001b[0;32m     54\u001b[0m \u001b[38;5;124;03m    self - cadquery.Workplane instance\u001b[39;00m\n\u001b[1;32m   (...)\u001b[0m\n\u001b[0;32m     58\u001b[0m \u001b[38;5;124;03m    return - modified cadquer.Workplane instance(self)\u001b[39;00m\n\u001b[0;32m     59\u001b[0m \u001b[38;5;124;03m    '''\u001b[39;00m    \n\u001b[1;32m---> 60\u001b[0m     gear_body \u001b[38;5;241m=\u001b[39m \u001b[43mgear_\u001b[49m\u001b[38;5;241;43m.\u001b[39;49m\u001b[43mbuild\u001b[49m\u001b[43m(\u001b[49m\u001b[38;5;241;43m*\u001b[39;49m\u001b[43mbuild_args\u001b[49m\u001b[43m,\u001b[49m\u001b[43m \u001b[49m\u001b[38;5;241;43m*\u001b[39;49m\u001b[38;5;241;43m*\u001b[39;49m\u001b[43mbuild_kv_args\u001b[49m\u001b[43m)\u001b[49m\n\u001b[0;32m     61\u001b[0m     gears \u001b[38;5;241m=\u001b[39m \u001b[38;5;28mself\u001b[39m\u001b[38;5;241m.\u001b[39meachpoint(\u001b[38;5;28;01mlambda\u001b[39;00m loc: gear_body\u001b[38;5;241m.\u001b[39mlocated(loc), \u001b[38;5;28;01mTrue\u001b[39;00m) \n\u001b[0;32m     63\u001b[0m     \u001b[38;5;28;01mreturn\u001b[39;00m gears\n",
      "File \u001b[1;32m~\\miniforge3\\envs\\cadquery\\Lib\\site-packages\\cq_gears\\spur_gear.py:49\u001b[0m, in \u001b[0;36mGearBase.build\u001b[1;34m(self, **kv_params)\u001b[0m\n\u001b[0;32m     46\u001b[0m \u001b[38;5;28;01mdef\u001b[39;00m \u001b[38;5;21mbuild\u001b[39m(\u001b[38;5;28mself\u001b[39m, \u001b[38;5;241m*\u001b[39m\u001b[38;5;241m*\u001b[39mkv_params):\n\u001b[0;32m     47\u001b[0m     params \u001b[38;5;241m=\u001b[39m {\u001b[38;5;241m*\u001b[39m\u001b[38;5;241m*\u001b[39m\u001b[38;5;28mself\u001b[39m\u001b[38;5;241m.\u001b[39mbuild_params, \u001b[38;5;241m*\u001b[39m\u001b[38;5;241m*\u001b[39mkv_params}\n\u001b[1;32m---> 49\u001b[0m     \u001b[38;5;28;01mreturn\u001b[39;00m \u001b[38;5;28;43mself\u001b[39;49m\u001b[38;5;241;43m.\u001b[39;49m\u001b[43m_build\u001b[49m\u001b[43m(\u001b[49m\u001b[38;5;241;43m*\u001b[39;49m\u001b[38;5;241;43m*\u001b[39;49m\u001b[43mparams\u001b[49m\u001b[43m)\u001b[49m\n",
      "File \u001b[1;32m~\\miniforge3\\envs\\cadquery\\Lib\\site-packages\\cq_gears\\spur_gear.py:447\u001b[0m, in \u001b[0;36mSpurGear._build\u001b[1;34m(self, bore_d, missing_teeth, hub_d, hub_length, recess_d, recess, n_spokes, spoke_width, spoke_fillet, spokes_id, spokes_od, chamfer, chamfer_top, chamfer_bottom, *args, **kv_args)\u001b[0m\n\u001b[0;32m    444\u001b[0m \u001b[38;5;28;01mif\u001b[39;00m spokes_od \u001b[38;5;129;01mis\u001b[39;00m \u001b[38;5;28;01mNone\u001b[39;00m:\n\u001b[0;32m    445\u001b[0m     spokes_od \u001b[38;5;241m=\u001b[39m recess_d\n\u001b[1;32m--> 447\u001b[0m body \u001b[38;5;241m=\u001b[39m \u001b[38;5;28;43mself\u001b[39;49m\u001b[38;5;241;43m.\u001b[39;49m\u001b[43m_make_spokes\u001b[49m\u001b[43m(\u001b[49m\u001b[43mbody\u001b[49m\u001b[43m,\u001b[49m\u001b[43m \u001b[49m\u001b[43mspokes_id\u001b[49m\u001b[43m,\u001b[49m\u001b[43m \u001b[49m\u001b[43mspokes_od\u001b[49m\u001b[43m,\u001b[49m\u001b[43m \u001b[49m\u001b[43mn_spokes\u001b[49m\u001b[43m,\u001b[49m\n\u001b[0;32m    448\u001b[0m \u001b[43m                         \u001b[49m\u001b[43mspoke_width\u001b[49m\u001b[43m,\u001b[49m\u001b[43m \u001b[49m\u001b[43mspoke_fillet\u001b[49m\u001b[43m)\u001b[49m\n\u001b[0;32m    451\u001b[0m \u001b[38;5;28;01mreturn\u001b[39;00m body\n",
      "File \u001b[1;32m~\\miniforge3\\envs\\cadquery\\Lib\\site-packages\\cq_gears\\spur_gear.py:355\u001b[0m, in \u001b[0;36mSpurGear._make_spokes\u001b[1;34m(self, body, spokes_id, spokes_od, n_spokes, spoke_width, spoke_fillet)\u001b[0m\n\u001b[0;32m    349\u001b[0m a3 \u001b[38;5;241m=\u001b[39m tau \u001b[38;5;241m-\u001b[39m a2\n\u001b[0;32m    350\u001b[0m a4 \u001b[38;5;241m=\u001b[39m tau \u001b[38;5;241m-\u001b[39m a1\n\u001b[0;32m    352\u001b[0m cutout \u001b[38;5;241m=\u001b[39m (\u001b[43mcq\u001b[49m\u001b[38;5;241;43m.\u001b[39;49m\u001b[43mWorkplane\u001b[49m\u001b[43m(\u001b[49m\u001b[38;5;124;43m'\u001b[39;49m\u001b[38;5;124;43mXY\u001b[39;49m\u001b[38;5;124;43m'\u001b[39;49m\u001b[43m)\u001b[49m\u001b[38;5;241;43m.\u001b[39;49m\u001b[43mworkplane\u001b[49m\u001b[43m(\u001b[49m\u001b[43moffset\u001b[49m\u001b[38;5;241;43m=\u001b[39;49m\u001b[38;5;241;43m-\u001b[39;49m\u001b[38;5;241;43m0.1\u001b[39;49m\u001b[43m)\u001b[49m\n\u001b[0;32m    353\u001b[0m \u001b[43m          \u001b[49m\u001b[38;5;241;43m.\u001b[39;49m\u001b[43mmoveTo\u001b[49m\u001b[43m(\u001b[49m\u001b[43mnp\u001b[49m\u001b[38;5;241;43m.\u001b[39;49m\u001b[43mcos\u001b[49m\u001b[43m(\u001b[49m\u001b[43ma1\u001b[49m\u001b[43m)\u001b[49m\u001b[43m \u001b[49m\u001b[38;5;241;43m*\u001b[39;49m\u001b[43m \u001b[49m\u001b[43mr1\u001b[49m\u001b[43m,\u001b[49m\u001b[43m \u001b[49m\u001b[43mnp\u001b[49m\u001b[38;5;241;43m.\u001b[39;49m\u001b[43msin\u001b[49m\u001b[43m(\u001b[49m\u001b[43ma1\u001b[49m\u001b[43m)\u001b[49m\u001b[43m \u001b[49m\u001b[38;5;241;43m*\u001b[39;49m\u001b[43m \u001b[49m\u001b[43mr1\u001b[49m\u001b[43m)\u001b[49m\n\u001b[0;32m    354\u001b[0m \u001b[43m          \u001b[49m\u001b[38;5;241;43m.\u001b[39;49m\u001b[43mlineTo\u001b[49m\u001b[43m(\u001b[49m\u001b[43mnp\u001b[49m\u001b[38;5;241;43m.\u001b[39;49m\u001b[43mcos\u001b[49m\u001b[43m(\u001b[49m\u001b[43ma2\u001b[49m\u001b[43m)\u001b[49m\u001b[43m \u001b[49m\u001b[38;5;241;43m*\u001b[39;49m\u001b[43m \u001b[49m\u001b[43mr2\u001b[49m\u001b[43m,\u001b[49m\u001b[43m \u001b[49m\u001b[43mnp\u001b[49m\u001b[38;5;241;43m.\u001b[39;49m\u001b[43msin\u001b[49m\u001b[43m(\u001b[49m\u001b[43ma2\u001b[49m\u001b[43m)\u001b[49m\u001b[43m \u001b[49m\u001b[38;5;241;43m*\u001b[39;49m\u001b[43m \u001b[49m\u001b[43mr2\u001b[49m\u001b[43m)\u001b[49m\n\u001b[1;32m--> 355\u001b[0m \u001b[43m          \u001b[49m\u001b[38;5;241;43m.\u001b[39;49m\u001b[43mradiusArc\u001b[49m\u001b[43m(\u001b[49m\u001b[43m(\u001b[49m\u001b[43mnp\u001b[49m\u001b[38;5;241;43m.\u001b[39;49m\u001b[43mcos\u001b[49m\u001b[43m(\u001b[49m\u001b[43ma3\u001b[49m\u001b[43m)\u001b[49m\u001b[43m \u001b[49m\u001b[38;5;241;43m*\u001b[39;49m\u001b[43m \u001b[49m\u001b[43mr2\u001b[49m\u001b[43m,\u001b[49m\u001b[43m \u001b[49m\u001b[43mnp\u001b[49m\u001b[38;5;241;43m.\u001b[39;49m\u001b[43msin\u001b[49m\u001b[43m(\u001b[49m\u001b[43ma3\u001b[49m\u001b[43m)\u001b[49m\u001b[43m \u001b[49m\u001b[38;5;241;43m*\u001b[39;49m\u001b[43m \u001b[49m\u001b[43mr2\u001b[49m\u001b[43m)\u001b[49m\u001b[43m,\u001b[49m\u001b[43m \u001b[49m\u001b[38;5;241;43m-\u001b[39;49m\u001b[43mr2\u001b[49m\u001b[43m)\u001b[49m\n\u001b[0;32m    356\u001b[0m           \u001b[38;5;241m.\u001b[39mlineTo(np\u001b[38;5;241m.\u001b[39mcos(a4) \u001b[38;5;241m*\u001b[39m r1, np\u001b[38;5;241m.\u001b[39msin(a4) \u001b[38;5;241m*\u001b[39m r1)\n\u001b[0;32m    357\u001b[0m           \u001b[38;5;241m.\u001b[39mradiusArc((np\u001b[38;5;241m.\u001b[39mcos(a1) \u001b[38;5;241m*\u001b[39m r1, np\u001b[38;5;241m.\u001b[39msin(a1) \u001b[38;5;241m*\u001b[39m r1), r1)\n\u001b[0;32m    358\u001b[0m           \u001b[38;5;241m.\u001b[39mclose()\n\u001b[0;32m    359\u001b[0m           \u001b[38;5;241m.\u001b[39mextrude(\u001b[38;5;28mself\u001b[39m\u001b[38;5;241m.\u001b[39mwidth \u001b[38;5;241m+\u001b[39m \u001b[38;5;241m1.0\u001b[39m))\n\u001b[0;32m    361\u001b[0m \u001b[38;5;28;01mif\u001b[39;00m spoke_fillet \u001b[38;5;129;01mis\u001b[39;00m \u001b[38;5;129;01mnot\u001b[39;00m \u001b[38;5;28;01mNone\u001b[39;00m:\n\u001b[0;32m    362\u001b[0m     cutout \u001b[38;5;241m=\u001b[39m cutout\u001b[38;5;241m.\u001b[39medges(\u001b[38;5;124m'\u001b[39m\u001b[38;5;124m|Z\u001b[39m\u001b[38;5;124m'\u001b[39m)\u001b[38;5;241m.\u001b[39mfillet(spoke_fillet)\n",
      "File \u001b[1;32m~\\miniforge3\\envs\\cadquery\\Lib\\site-packages\\cadquery\\cq.py:2207\u001b[0m, in \u001b[0;36mWorkplane.radiusArc\u001b[1;34m(self, endPoint, radius, forConstruction)\u001b[0m\n\u001b[0;32m   2205\u001b[0m \u001b[38;5;66;03m# Return a sagittaArc\u001b[39;00m\n\u001b[0;32m   2206\u001b[0m \u001b[38;5;28;01mif\u001b[39;00m radius \u001b[38;5;241m>\u001b[39m \u001b[38;5;241m0\u001b[39m:\n\u001b[1;32m-> 2207\u001b[0m     \u001b[38;5;28;01mreturn\u001b[39;00m \u001b[38;5;28;43mself\u001b[39;49m\u001b[38;5;241;43m.\u001b[39;49m\u001b[43msagittaArc\u001b[49m\u001b[43m(\u001b[49m\u001b[43mendPoint\u001b[49m\u001b[43m,\u001b[49m\u001b[43m \u001b[49m\u001b[43msag\u001b[49m\u001b[43m,\u001b[49m\u001b[43m \u001b[49m\u001b[43mforConstruction\u001b[49m\u001b[43m)\u001b[49m\n\u001b[0;32m   2208\u001b[0m \u001b[38;5;28;01melse\u001b[39;00m:\n\u001b[0;32m   2209\u001b[0m     \u001b[38;5;28;01mreturn\u001b[39;00m \u001b[38;5;28mself\u001b[39m\u001b[38;5;241m.\u001b[39msagittaArc(endPoint, \u001b[38;5;241m-\u001b[39msag, forConstruction)\n",
      "File \u001b[1;32m~\\miniforge3\\envs\\cadquery\\Lib\\site-packages\\cadquery\\cq.py:2177\u001b[0m, in \u001b[0;36mWorkplane.sagittaArc\u001b[1;34m(self, endPoint, sag, forConstruction)\u001b[0m\n\u001b[0;32m   2170\u001b[0m     sagVector\u001b[38;5;241m.\u001b[39mx, sagVector\u001b[38;5;241m.\u001b[39my \u001b[38;5;241m=\u001b[39m (\n\u001b[0;32m   2171\u001b[0m         sagVector\u001b[38;5;241m.\u001b[39my,\n\u001b[0;32m   2172\u001b[0m         \u001b[38;5;241m-\u001b[39msagVector\u001b[38;5;241m.\u001b[39mx,\n\u001b[0;32m   2173\u001b[0m     )  \u001b[38;5;66;03m# Rotate sagVector -90 deg\u001b[39;00m\n\u001b[0;32m   2175\u001b[0m sagPoint \u001b[38;5;241m=\u001b[39m midPoint\u001b[38;5;241m.\u001b[39madd(sagVector)\n\u001b[1;32m-> 2177\u001b[0m \u001b[38;5;28;01mreturn\u001b[39;00m \u001b[38;5;28;43mself\u001b[39;49m\u001b[38;5;241;43m.\u001b[39;49m\u001b[43mthreePointArc\u001b[49m\u001b[43m(\u001b[49m\u001b[43msagPoint\u001b[49m\u001b[43m,\u001b[49m\u001b[43m \u001b[49m\u001b[43mendPoint\u001b[49m\u001b[43m,\u001b[49m\u001b[43m \u001b[49m\u001b[43mforConstruction\u001b[49m\u001b[43m)\u001b[49m\n",
      "File \u001b[1;32m~\\miniforge3\\envs\\cadquery\\Lib\\site-packages\\cadquery\\cq.py:2134\u001b[0m, in \u001b[0;36mWorkplane.threePointArc\u001b[1;34m(self, point1, point2, forConstruction)\u001b[0m\n\u001b[0;32m   2131\u001b[0m gpoint1 \u001b[38;5;241m=\u001b[39m \u001b[38;5;28mself\u001b[39m\u001b[38;5;241m.\u001b[39mplane\u001b[38;5;241m.\u001b[39mtoWorldCoords(point1)\n\u001b[0;32m   2132\u001b[0m gpoint2 \u001b[38;5;241m=\u001b[39m \u001b[38;5;28mself\u001b[39m\u001b[38;5;241m.\u001b[39mplane\u001b[38;5;241m.\u001b[39mtoWorldCoords(point2)\n\u001b[1;32m-> 2134\u001b[0m arc \u001b[38;5;241m=\u001b[39m \u001b[43mEdge\u001b[49m\u001b[38;5;241;43m.\u001b[39;49m\u001b[43mmakeThreePointArc\u001b[49m\u001b[43m(\u001b[49m\u001b[43mgstartPoint\u001b[49m\u001b[43m,\u001b[49m\u001b[43m \u001b[49m\u001b[43mgpoint1\u001b[49m\u001b[43m,\u001b[49m\u001b[43m \u001b[49m\u001b[43mgpoint2\u001b[49m\u001b[43m)\u001b[49m\n\u001b[0;32m   2136\u001b[0m \u001b[38;5;28;01mif\u001b[39;00m \u001b[38;5;129;01mnot\u001b[39;00m forConstruction:\n\u001b[0;32m   2137\u001b[0m     \u001b[38;5;28mself\u001b[39m\u001b[38;5;241m.\u001b[39m_addPendingEdge(arc)\n",
      "File \u001b[1;32m~\\miniforge3\\envs\\cadquery\\Lib\\site-packages\\cadquery\\occ_impl\\shapes.py:2060\u001b[0m, in \u001b[0;36mEdge.makeThreePointArc\u001b[1;34m(cls, v1, v2, v3)\u001b[0m\n\u001b[0;32m   2045\u001b[0m \u001b[38;5;129m@classmethod\u001b[39m\n\u001b[0;32m   2046\u001b[0m \u001b[38;5;28;01mdef\u001b[39;00m \u001b[38;5;21mmakeThreePointArc\u001b[39m(\n\u001b[0;32m   2047\u001b[0m     \u001b[38;5;28mcls\u001b[39m, v1: VectorLike, v2: VectorLike, v3: VectorLike\n\u001b[0;32m   2048\u001b[0m ) \u001b[38;5;241m-\u001b[39m\u001b[38;5;241m>\u001b[39m \u001b[38;5;124m\"\u001b[39m\u001b[38;5;124mEdge\u001b[39m\u001b[38;5;124m\"\u001b[39m:\n\u001b[0;32m   2049\u001b[0m \u001b[38;5;250m    \u001b[39m\u001b[38;5;124;03m\"\"\"\u001b[39;00m\n\u001b[0;32m   2050\u001b[0m \u001b[38;5;124;03m    Makes a three point arc through the provided points\u001b[39;00m\n\u001b[0;32m   2051\u001b[0m \n\u001b[1;32m   (...)\u001b[0m\n\u001b[0;32m   2056\u001b[0m \u001b[38;5;124;03m    :return: an edge object through the three points\u001b[39;00m\n\u001b[0;32m   2057\u001b[0m \u001b[38;5;124;03m    \"\"\"\u001b[39;00m\n\u001b[0;32m   2058\u001b[0m     circle_geom \u001b[38;5;241m=\u001b[39m \u001b[43mGC_MakeArcOfCircle\u001b[49m\u001b[43m(\u001b[49m\n\u001b[0;32m   2059\u001b[0m \u001b[43m        \u001b[49m\u001b[43mVector\u001b[49m\u001b[43m(\u001b[49m\u001b[43mv1\u001b[49m\u001b[43m)\u001b[49m\u001b[38;5;241;43m.\u001b[39;49m\u001b[43mtoPnt\u001b[49m\u001b[43m(\u001b[49m\u001b[43m)\u001b[49m\u001b[43m,\u001b[49m\u001b[43m \u001b[49m\u001b[43mVector\u001b[49m\u001b[43m(\u001b[49m\u001b[43mv2\u001b[49m\u001b[43m)\u001b[49m\u001b[38;5;241;43m.\u001b[39;49m\u001b[43mtoPnt\u001b[49m\u001b[43m(\u001b[49m\u001b[43m)\u001b[49m\u001b[43m,\u001b[49m\u001b[43m \u001b[49m\u001b[43mVector\u001b[49m\u001b[43m(\u001b[49m\u001b[43mv3\u001b[49m\u001b[43m)\u001b[49m\u001b[38;5;241;43m.\u001b[39;49m\u001b[43mtoPnt\u001b[49m\u001b[43m(\u001b[49m\u001b[43m)\u001b[49m\n\u001b[1;32m-> 2060\u001b[0m \u001b[43m    \u001b[49m\u001b[43m)\u001b[49m\u001b[38;5;241;43m.\u001b[39;49m\u001b[43mValue\u001b[49m\u001b[43m(\u001b[49m\u001b[43m)\u001b[49m\n\u001b[0;32m   2062\u001b[0m     \u001b[38;5;28;01mreturn\u001b[39;00m \u001b[38;5;28mcls\u001b[39m(BRepBuilderAPI_MakeEdge(circle_geom)\u001b[38;5;241m.\u001b[39mEdge())\n",
      "\u001b[1;31mStdFail_NotDone\u001b[0m: GC_MakeArcOfCircle::Value() - no result"
     ]
    }
   ],
   "source": [
    "gear_arm_forward = SpurGear(\n",
    "    module=1.0,\n",
    "    teeth_number=gear_size,\n",
    "    width=gear_height,\n",
    "    helix_angle=30,\n",
    "    bore_d=gear_hole,\n",
    "    n_spokes=5,\n",
    "    spokes_id=35,\n",
    "    spokes_od=gear_size - 30,\n",
    "    spoke_width=gear_spoke_width,\n",
    "    # spoke_fillet=4.0,\n",
    ")\n",
    "gear_arm_backward = SpurGear(\n",
    "    module=1.0,\n",
    "    teeth_number=gear_size,\n",
    "    width=gear_height,\n",
    "    helix_angle=-30,\n",
    "    bore_d=gear_hole,\n",
    "    n_spokes=5,\n",
    "    spokes_id=35,\n",
    "    spokes_od=gear_size - 30,\n",
    "    spoke_width=gear_spoke_width,\n",
    "    # spoke_fillet=4.0,\n",
    ")\n",
    "gear_arm_forward_2 = SpurGear(\n",
    "    module=1.0,\n",
    "    teeth_number=gear_size,\n",
    "    width=gear_height,\n",
    "    helix_angle=30,\n",
    "    n_spokes=5,\n",
    "    spokes_id=35,\n",
    "    spokes_od=gear_size - 30,\n",
    "    spoke_width=gear_spoke_width,\n",
    "    # spoke_fillet=4.0,\n",
    ")\n",
    "\n",
    "#Top gear without magnet arm\n",
    "arm_gear_1 = (\n",
    "    arm.faces(\">Z[1]\")\n",
    "    .workplane()\n",
    "    .center(-gear_size / 2, 0)\n",
    "    # .circle(gear_arm_forward.r0)\n",
    "    # .extrude(-gear_arm_forward.width)\n",
    "    .gear(gear_arm_forward)\n",
    ")\n",
    "\n",
    "#Top gear with magnet arm\n",
    "arm_gear_2 = (\n",
    "    arm.faces(\">Z[1]\")\n",
    "    .workplane()\n",
    "    .center(gear_size / 2, 0)\n",
    "    # .circle(gear_arm_backward.r0)\n",
    "    # .extrude(-gear_arm_backward.width)\n",
    "    .gear(gear_arm_backward)\n",
    ")\n",
    "arm_gear_2_magnet_arm = (\n",
    "    arm_gear_2.faces(\">Z\")\n",
    "    .workplane()\n",
    "    .center(main_arm_length / 2 + 5, 0)\n",
    "    .rect(secondary_arm_length - 5, arm_thickness * 2)\n",
    "    .extrude(arm_height)\n",
    ")\n",
    "\n",
    "#Bottom gear\n",
    "arm_gear_3 = (\n",
    "    arm.faces(\"<Z\")\n",
    "    .workplane()\n",
    "    .center(-gear_size / 2, 0)\n",
    "    # .circle(gear_motor_main.r0)\n",
    "    # .extrude(gear_motor_main.width)\n",
    "    .gear(gear_arm_forward_2)\n",
    ")\n",
    "arm_gear_3 = arm.union(arm_gear_3)\n",
    "\n",
    "arm_gear_3_align_pin = (\n",
    "    arm_gear_3.faces(\"<Z\")\n",
    "    .workplane()\n",
    "    .center(-gear_size / 2, 0)\n",
    "    .circle(gear_hole / 2 - gear_hole_tolerance)\n",
    "    .extrude(20)\n",
    ")\n",
    "\n",
    "gears = arm_gear_1.union(arm_gear_2_magnet_arm).union(arm_gear_3_align_pin)\n",
    "show(gears)"
   ]
  },
  {
   "cell_type": "code",
   "execution_count": null,
   "id": "87665549",
   "metadata": {},
   "outputs": [],
   "source": [
    "motor_gear_size = 20\n",
    "\n",
    "gear_motor = SpurGear(\n",
    "    module=1.0,\n",
    "    teeth_number=motor_gear_size,\n",
    "    width=gear_height,\n",
    "    helix_angle=-30\n",
    ")\n",
    "\n",
    "main_motor = (\n",
    "    cq.importers.importStep(\"nema17.step\")\n",
    "    .rotate((0, 0, 0), (0, 1, 0), 270)\n",
    "    .translate([-main_arm_length / 2 - arm_extra_length / 2, -gear_size / 2 - motor_gear_size/2, -60])\n",
    ")\n",
    "secondary_motor = (\n",
    "    cq.importers.importStep(\"nema17.step\")\n",
    "    .rotate((0, 0, 0), (0, 1, 0), 270)\n",
    "    .translate([-main_arm_length / 2 - arm_extra_length / 2, gear_size / 2 + motor_gear_size/2, -30])\n",
    ")\n",
    "\n",
    "main_motor_gear = (\n",
    "    arm.faces(\"<Z\")\n",
    "    .workplane()\n",
    "    .gear(gear_motor)\n",
    ")\n",
    "main_motor_gear_rod = (\n",
    "    main_motor_gear.faces(\"<Z\")\n",
    "    .workplane()    \n",
    "    .circle(2.6)\n",
    "    .circle(6)\n",
    "    .extrude(30)\n",
    "    .translate(\n",
    "        [-main_arm_length / 2, -gear_size / 2 - motor_gear_size/2, 0]\n",
    "    )\n",
    ")\n",
    "\n",
    "secondary_motor_gear = (\n",
    "    arm.faces(\">Z[1]\")\n",
    "    .workplane()\n",
    "    .gear(gear_motor)\n",
    ")\n",
    "secondary_motor_gear_rod = (\n",
    "    secondary_motor_gear.faces(\"<Z\")\n",
    "    .workplane()    \n",
    "    .circle(2.6)\n",
    "    .circle(6)\n",
    "    .extrude(20)\n",
    "    .translate(\n",
    "        [-main_arm_length / 2, gear_size / 2 + motor_gear_size/2, 0]\n",
    "    )\n",
    ")\n",
    "\n",
    "motors = (\n",
    "    main_motor.union(secondary_motor).union(\n",
    "    main_motor_gear_rod).union(secondary_motor_gear_rod)\n",
    ")\n",
    "show(motors)"
   ]
  },
  {
   "cell_type": "code",
   "execution_count": null,
   "id": "7e0ea0fe",
   "metadata": {},
   "outputs": [],
   "source": [
    "final = arm.union(gears).union(motors)\n",
    "\n",
    "show(final, grid=[True, True, True])"
   ]
  },
  {
   "cell_type": "code",
   "execution_count": null,
   "id": "bb363d3f",
   "metadata": {},
   "outputs": [],
   "source": [
    "cq.exporters.export(arm_gear_1, \"arm_gear_1.3mf\", tolerance=0.01, angularTolerance=0.1)\n",
    "cq.exporters.export(arm_gear_2_magnet_arm, \"arm_gear_2.3mf\", tolerance=0.01, angularTolerance=0.1)\n",
    "cq.exporters.export(arm_gear_3_align_pin, \"arm_gear_3.3mf\", tolerance=0.01, angularTolerance=0.1)\n",
    "cq.exporters.export(main_motor_gear_rod, \"gear_motor_1.3mf\", tolerance=0.01, angularTolerance=0.1)\n",
    "cq.exporters.export(secondary_motor_gear_rod, \"gear_motor_2.3mf\", tolerance=0.01, angularTolerance=0.1)"
   ]
  },
  {
   "cell_type": "code",
   "execution_count": null,
   "id": "047ec23f",
   "metadata": {},
   "outputs": [],
   "source": []
  },
  {
   "cell_type": "code",
   "execution_count": null,
   "id": "55a9a886",
   "metadata": {},
   "outputs": [],
   "source": []
  }
 ],
 "metadata": {
  "kernelspec": {
   "display_name": "Python 3 (ipykernel)",
   "language": "python",
   "name": "python3"
  },
  "language_info": {
   "codemirror_mode": {
    "name": "ipython",
    "version": 3
   },
   "file_extension": ".py",
   "mimetype": "text/x-python",
   "name": "python",
   "nbconvert_exporter": "python",
   "pygments_lexer": "ipython3",
   "version": "3.12.2"
  }
 },
 "nbformat": 4,
 "nbformat_minor": 5
}
