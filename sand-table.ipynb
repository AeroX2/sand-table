{
 "cells": [
  {
   "cell_type": "code",
   "execution_count": 1,
   "id": "7511e802",
   "metadata": {},
   "outputs": [
    {
     "name": "stdout",
     "output_type": "stream",
     "text": [
      "Overwriting auto display for cadquery Workplane and Shape\n"
     ]
    }
   ],
   "source": [
    "from jupyter_cadquery import set_defaults, open_viewer\n",
    "\n",
    "set_defaults(theme=\"dark\")\n",
    "open_viewer(\"CadQuery\")\n",
    "\n",
    "import math\n",
    "import cadquery as cq\n",
    "from cq_gears import SpurGear, RingGear\n",
    "import faulthandler\n",
    "\n",
    "faulthandler.enable()\n",
    "from jupyter_cadquery.viewer.client import show"
   ]
  },
  {
   "cell_type": "code",
   "execution_count": 64,
   "id": "1bf48126",
   "metadata": {},
   "outputs": [],
   "source": [
    "main_arm_length = 150\n",
    "secondary_arm_length = main_arm_length\n",
    "\n",
    "arm_height = 10\n",
    "arm_thickness = 10\n",
    "arm_extra_length = 10\n",
    "\n",
    "gear_size = main_arm_length\n",
    "gear_height = 10\n",
    "\n",
    "gear_hole = 10\n",
    "gear_hole_tolerance = 0.5\n",
    "gear_spoke_width = 15"
   ]
  },
  {
   "cell_type": "code",
   "execution_count": 65,
   "id": "fdfaf725-3b20-4bd9-8a46-274b7a3e914f",
   "metadata": {},
   "outputs": [
    {
     "name": "stdout",
     "output_type": "stream",
     "text": [
      ". sending ... done\n"
     ]
    }
   ],
   "source": [
    "main_arm = (\n",
    "    cq.Workplane(\"XY\")\n",
    "    .center(main_arm_length / 2 - main_arm_length / 2 - arm_extra_length / 2, 0)\n",
    "    .rect(main_arm_length + arm_extra_length * 2, arm_thickness * 2)\n",
    "    .extrude(arm_height)\n",
    ")\n",
    "\n",
    "main_arm_gear_hub_1 = (\n",
    "    main_arm.faces(\">Z\")\n",
    "    .workplane()\n",
    "    .center(-main_arm_length / 2, 0)\n",
    "    .circle(gear_hole / 2 - gear_hole_tolerance)\n",
    "    .extrude(gear_height * 2)\n",
    ")\n",
    "\n",
    "main_arm_gear_hub_2 = (\n",
    "    main_arm.faces(\">Z\")\n",
    "    .workplane()\n",
    "    .center(main_arm_length / 2, 0)\n",
    "    .circle(gear_hole / 2 - gear_hole_tolerance)\n",
    "    .extrude(gear_height * 2)\n",
    ")\n",
    "\n",
    "arm = main_arm.union(main_arm_gear_hub_1).union(main_arm_gear_hub_2)\n",
    "show(arm)"
   ]
  },
  {
   "cell_type": "code",
   "execution_count": 66,
   "id": "658437a5",
   "metadata": {},
   "outputs": [
    {
     "name": "stdout",
     "output_type": "stream",
     "text": [
      ". sending ... done\n"
     ]
    }
   ],
   "source": [
    "gear_arm_forward = SpurGear(\n",
    "    module=1.0,\n",
    "    teeth_number=gear_size,\n",
    "    width=gear_height,\n",
    "    helix_angle=30,\n",
    "    bore_d=gear_hole,\n",
    "    n_spokes=5,\n",
    "    spokes_id=35,\n",
    "    spokes_od=gear_size - 30,\n",
    "    spoke_width=gear_spoke_width,\n",
    "    # spoke_fillet=4.0,\n",
    ")\n",
    "gear_arm_backward = SpurGear(\n",
    "    module=1.0,\n",
    "    teeth_number=gear_size,\n",
    "    width=gear_height,\n",
    "    helix_angle=-30,\n",
    "    bore_d=gear_hole,\n",
    "    n_spokes=5,\n",
    "    spokes_id=35,\n",
    "    spokes_od=gear_size - 30,\n",
    "    spoke_width=gear_spoke_width,\n",
    "    # spoke_fillet=4.0,\n",
    ")\n",
    "gear_arm_forward_2 = SpurGear(\n",
    "    module=1.0,\n",
    "    teeth_number=gear_size,\n",
    "    width=gear_height,\n",
    "    helix_angle=30,\n",
    "    n_spokes=5,\n",
    "    spokes_id=35,\n",
    "    spokes_od=gear_size - 30,\n",
    "    spoke_width=gear_spoke_width,\n",
    "    # spoke_fillet=4.0,\n",
    ")\n",
    "\n",
    "arm_gear_1 = (\n",
    "    arm.faces(\">Z[1]\")\n",
    "    .workplane()\n",
    "    .center(-gear_size / 2, 0)\n",
    "    # .circle(gear_arm_forward.r0)\n",
    "    # .extrude(-gear_arm_forward.width)\n",
    "    .gear(gear_arm_forward)\n",
    ")\n",
    "\n",
    "arm_gear_2 = (\n",
    "    arm.faces(\">Z[1]\")\n",
    "    .workplane()\n",
    "    .center(gear_size / 2, 0)\n",
    "    # .circle(gear_arm_backward.r0)\n",
    "    # .extrude(-gear_arm_backward.width)\n",
    "    .gear(gear_arm_backward)\n",
    ")\n",
    "\n",
    "magnet_arm = (\n",
    "    arm_gear_2.faces(\">Z\")\n",
    "    .workplane()\n",
    "    .center(main_arm_length / 2 + 5, 0)\n",
    "    .rect(secondary_arm_length - 5, arm_thickness * 2)\n",
    "    .extrude(arm_height)\n",
    ")\n",
    "\n",
    "arm_gear_3 = (\n",
    "    arm.faces(\"<Z\")\n",
    "    .workplane()\n",
    "    .center(-gear_size / 2, 0)\n",
    "    # .circle(gear_motor_main.r0)\n",
    "    # .extrude(gear_motor_main.width)\n",
    "    .gear(gear_arm_forward_2)\n",
    ")\n",
    "\n",
    "gears = arm.union(arm_gear_1).union(arm_gear_2).union(magnet_arm).union(arm_gear_3)\n",
    "show(gears)"
   ]
  },
  {
   "cell_type": "code",
   "execution_count": 90,
   "id": "87665549",
   "metadata": {},
   "outputs": [],
   "source": [
    "main_motor = (\n",
    "    cq.importers.importStep(\"C:\\\\Users\\\\James\\\\Documents\\\\git\\\\sand-table\\\\nema17.step\")\n",
    "    .rotate((0, 0, 0), (0, 1, 0), 270)\n",
    "    .translate([-main_arm_length / 2 - arm_extra_length / 2, -gear_size / 2, -30])\n",
    ")\n",
    "\n",
    "secondary_motor = (\n",
    "    cq.importers.importStep(\"C:\\\\Users\\\\James\\\\Documents\\\\git\\\\sand-table\\\\nema17.step\")\n",
    "    .rotate((0, 0, 0), (0, 1, 0), 270)\n",
    "    .translate([-main_arm_length / 2 - arm_extra_length / 2, gear_size / 2, -30])\n",
    ")\n",
    "\n",
    "motors = main_motor.union(secondary_motor)"
   ]
  },
  {
   "cell_type": "code",
   "execution_count": 91,
   "id": "7e0ea0fe",
   "metadata": {},
   "outputs": [
    {
     "name": "stdout",
     "output_type": "stream",
     "text": [
      ". sending ... done\n"
     ]
    }
   ],
   "source": [
    "final = arm.union(gears).union(motors)\n",
    "\n",
    "show(final, grid=[True, True, True])"
   ]
  },
  {
   "cell_type": "code",
   "execution_count": null,
   "id": "bb363d3f",
   "metadata": {},
   "outputs": [],
   "source": []
  }
 ],
 "metadata": {
  "kernelspec": {
   "display_name": "Python 3 (ipykernel)",
   "language": "python",
   "name": "python3"
  },
  "language_info": {
   "codemirror_mode": {
    "name": "ipython",
    "version": 3
   },
   "file_extension": ".py",
   "mimetype": "text/x-python",
   "name": "python",
   "nbconvert_exporter": "python",
   "pygments_lexer": "ipython3",
   "version": "3.12.2"
  }
 },
 "nbformat": 4,
 "nbformat_minor": 5
}
