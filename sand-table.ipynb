{
 "cells": [
  {
   "cell_type": "code",
   "execution_count": 1,
   "id": "7511e802",
   "metadata": {},
   "outputs": [
    {
     "name": "stdout",
     "output_type": "stream",
     "text": [
      "Overwriting auto display for cadquery Workplane and Shape\n"
     ]
    }
   ],
   "source": [
    "from jupyter_cadquery import set_defaults, open_viewer\n",
    "\n",
    "set_defaults(theme=\"dark\")\n",
    "open_viewer(\"CadQuery\")\n",
    "\n",
    "import math\n",
    "import cadquery as cq\n",
    "from cadquery import Vector\n",
    "from cq_gears import SpurGear, RingGear\n",
    "from jupyter_cadquery.viewer.client import show"
   ]
  },
  {
   "cell_type": "code",
   "execution_count": null,
   "id": "1bf48126",
   "metadata": {},
   "outputs": [],
   "source": [
    "main_arm_length = 150\n",
    "secondary_arm_length = main_arm_length\n",
    "\n",
    "arm_height = 10\n",
    "arm_thickness = 5\n",
    "arm_extra_length = 0\n",
    "\n",
    "gear_size = main_arm_length\n",
    "gear_height = 5"
   ]
  },
  {
   "cell_type": "code",
   "execution_count": 2,
   "id": "fdfaf725-3b20-4bd9-8a46-274b7a3e914f",
   "metadata": {},
   "outputs": [
    {
     "ename": "",
     "evalue": "",
     "output_type": "error",
     "traceback": [
      "\u001b[1;31mThe Kernel crashed while executing code in the current cell or a previous cell. \n",
      "\u001b[1;31mPlease review the code in the cell(s) to identify a possible cause of the failure. \n",
      "\u001b[1;31mClick <a href='https://aka.ms/vscodeJupyterKernelCrash'>here</a> for more info. \n",
      "\u001b[1;31mView Jupyter <a href='command:jupyter.viewOutput'>log</a> for further details."
     ]
    }
   ],
   "source": [
    "# secondary_motor = cq.importers.importStep(\"nema17.step\").rotate((0,0,0),(1,0,0),90)\n",
    "\n",
    "main_arm = (\n",
    "    cq.Workplane(\"XY\")\n",
    "    .workplane(-gear_height)\n",
    "    .center(main_arm_length / 2 - main_arm_length / 3 / 2, 0)\n",
    "    .rect(main_arm_length + arm_extra_length * 2, arm_thickness * 2)\n",
    "    .extrude(arm_height)\n",
    ")\n",
    "\n",
    "secondary_arm = (\n",
    "    main_arm.faces(\">Z\")\n",
    "    .workplane(gear_height)\n",
    "    .center(gear_size, -arm_thickness)\n",
    "    .rect(\n",
    "        secondary_arm_length + arm_extra_length * 2, arm_thickness * 2, centered=False\n",
    "    )\n",
    "    .extrude(arm_height)\n",
    ")\n",
    "\n",
    "arm = main_arm.union(secondary_arm)"
   ]
  },
  {
   "cell_type": "code",
   "execution_count": null,
   "id": "658437a5",
   "metadata": {},
   "outputs": [],
   "source": [
    "gear_arm_forward = SpurGear(\n",
    "    module=1.0, teeth_number=gear_size, width=gear_height, helix_angle=30\n",
    ")\n",
    "gear_arm_backward = SpurGear(\n",
    "    module=1.0, teeth_number=gear_size, width=gear_height, helix_angle=-30\n",
    ")\n",
    "\n",
    "ring_gear_rim_width = 10\n",
    "gear_motor_main = RingGear(\n",
    "    module=1.0,\n",
    "    teeth_number=gear_size - ring_gear_rim_width,\n",
    "    rim_width=ring_gear_rim_width,\n",
    "    width=gear_height,\n",
    "    helix_angle=30,\n",
    ")\n",
    "gear_motor_secondary = SpurGear(\n",
    "    module=1.0,\n",
    "    teeth_number=math.floor(gear_size / 10),\n",
    "    width=gear_height,\n",
    "    helix_angle=30,\n",
    ")\n",
    "\n",
    "arm_gear_1 = (\n",
    "    main_arm.faces(\">Z\")\n",
    "    .workplane()\n",
    "    .center(-gear_size, 0)\n",
    "    .circle(gear_arm_forward.r0)\n",
    "    .extrude(gear_arm_forward.width)\n",
    ")\n",
    "# .gear(gear_arm_forward))\n",
    "\n",
    "arm_gear_2 = (\n",
    "    main_arm.faces(\">Z\")\n",
    "    .workplane()\n",
    "    .circle(gear_arm_backward.r0)\n",
    "    .extrude(gear_arm_backward.width)\n",
    ")\n",
    "# .gear(gear_arm_backward))\n",
    "\n",
    "ring_gear = (\n",
    "    arm_gear_1.faces(\"<Z[1]\")\n",
    "    .workplane()\n",
    "    .circle(gear_motor_main.r0)\n",
    "    .extrude(gear_motor_main.width)\n",
    ")\n",
    "# .gear(gear_motor_main))\n",
    "\n",
    "gears = arm_gear_1.union(arm_gear_2).union(ring_gear)"
   ]
  },
  {
   "cell_type": "code",
   "execution_count": null,
   "id": "87665549",
   "metadata": {},
   "outputs": [],
   "source": [
    "main_motor = cq.importers.importStep(\"nema17.step\").rotate((0, 0, 0), (1, 0, 0), 90)\n",
    "motor_size = main_motor.val().BoundingBox().xlen\n",
    "main_motor = main_motor.translate([-motor_size / 2, 0, 0])"
   ]
  },
  {
   "cell_type": "code",
   "execution_count": null,
   "id": "7e0ea0fe",
   "metadata": {},
   "outputs": [],
   "source": [
    "final = arm.union(gears).union(main_motor)\n",
    "\n",
    "show(final, grid=[True, True, True])"
   ]
  }
 ],
 "metadata": {
  "kernelspec": {
   "display_name": "Python 3 (ipykernel)",
   "language": "python",
   "name": "python3"
  },
  "language_info": {
   "codemirror_mode": {
    "name": "ipython",
    "version": 3
   },
   "file_extension": ".py",
   "mimetype": "text/x-python",
   "name": "python",
   "nbconvert_exporter": "python",
   "pygments_lexer": "ipython3",
   "version": "3.10.13"
  }
 },
 "nbformat": 4,
 "nbformat_minor": 5
}
